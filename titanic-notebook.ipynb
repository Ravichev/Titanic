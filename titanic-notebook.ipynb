{
 "cells": [
  {
   "cell_type": "markdown",
   "id": "0131deb9",
   "metadata": {
    "papermill": {
     "duration": 0.012973,
     "end_time": "2024-12-23T09:55:45.954912",
     "exception": false,
     "start_time": "2024-12-23T09:55:45.941939",
     "status": "completed"
    },
    "tags": []
   },
   "source": [
    "In this notebook i am resolving classic data science task - titanic survival probability. I used four different models, one custom class for data preprocessing, and one method to simplify the GridSearch process. Feel free to leave comments if you have any ideas for improvement."
   ]
  },
  {
   "cell_type": "code",
   "execution_count": 1,
   "id": "f500b07b",
   "metadata": {
    "execution": {
     "iopub.execute_input": "2024-12-23T09:55:45.979765Z",
     "iopub.status.busy": "2024-12-23T09:55:45.979364Z",
     "iopub.status.idle": "2024-12-23T09:55:48.434604Z",
     "shell.execute_reply": "2024-12-23T09:55:48.433653Z"
    },
    "executionInfo": {
     "elapsed": 3209,
     "status": "ok",
     "timestamp": 1734524066280,
     "user": {
      "displayName": "Максим Равичев",
      "userId": "13749303498246737990"
     },
     "user_tz": -120
    },
    "id": "pRYc-1SYgohA",
    "papermill": {
     "duration": 2.469654,
     "end_time": "2024-12-23T09:55:48.436505",
     "exception": false,
     "start_time": "2024-12-23T09:55:45.966851",
     "status": "completed"
    },
    "tags": []
   },
   "outputs": [],
   "source": [
    "import warnings\n",
    "warnings.filterwarnings(\"ignore\")\n",
    "\n",
    "import pandas as pd\n",
    "import numpy as np\n",
    "import matplotlib.pyplot as plt\n",
    "import seaborn as sns\n",
    "\n",
    "\n",
    "from sklearn import model_selection\n",
    "from sklearn.metrics import mean_absolute_error\n",
    "from sklearn.preprocessing import label_binarize\n",
    "from sklearn.model_selection import train_test_split, GridSearchCV\n",
    "from sklearn.base import BaseEstimator, TransformerMixin\n",
    "from sklearn.pipeline import Pipeline\n",
    "from sklearn.compose import ColumnTransformer\n",
    "from sklearn.impute import SimpleImputer\n",
    "from sklearn.preprocessing import StandardScaler, OneHotEncoder, LabelEncoder\n",
    "from sklearn.linear_model import LogisticRegression, SGDClassifier\n",
    "from sklearn.ensemble import RandomForestClassifier\n",
    "from sklearn.neighbors import KNeighborsClassifier\n",
    "from sklearn.metrics import classification_report, confusion_matrix, precision_recall_curve, roc_curve, auc\n",
    "\n",
    "path_to_train = \"/kaggle/input/titanic/train.csv\"\n",
    "path_to_validat = \"/kaggle/input/titanic/test.csv\""
   ]
  },
  {
   "cell_type": "code",
   "execution_count": 2,
   "id": "0708be30",
   "metadata": {
    "execution": {
     "iopub.execute_input": "2024-12-23T09:55:48.462214Z",
     "iopub.status.busy": "2024-12-23T09:55:48.461677Z",
     "iopub.status.idle": "2024-12-23T09:55:48.489783Z",
     "shell.execute_reply": "2024-12-23T09:55:48.488853Z"
    },
    "executionInfo": {
     "elapsed": 11,
     "status": "ok",
     "timestamp": 1734524067637,
     "user": {
      "displayName": "Максим Равичев",
      "userId": "13749303498246737990"
     },
     "user_tz": -120
    },
    "id": "7zv3mcEead1V",
    "papermill": {
     "duration": 0.042343,
     "end_time": "2024-12-23T09:55:48.491598",
     "exception": false,
     "start_time": "2024-12-23T09:55:48.449255",
     "status": "completed"
    },
    "tags": []
   },
   "outputs": [],
   "source": [
    "df = pd.read_csv(path_to_train)\n",
    "valid_df = pd.read_csv(path_to_validat)"
   ]
  },
  {
   "cell_type": "markdown",
   "id": "47e35167",
   "metadata": {
    "id": "exNBJzScg-_5",
    "papermill": {
     "duration": 0.011179,
     "end_time": "2024-12-23T09:55:48.514643",
     "exception": false,
     "start_time": "2024-12-23T09:55:48.503464",
     "status": "completed"
    },
    "tags": []
   },
   "source": [
    "# Titanic dataset prewiew"
   ]
  },
  {
   "cell_type": "markdown",
   "id": "7fba6142",
   "metadata": {
    "id": "Be0YZwP-hTyF",
    "papermill": {
     "duration": 0.011534,
     "end_time": "2024-12-23T09:55:48.538383",
     "exception": false,
     "start_time": "2024-12-23T09:55:48.526849",
     "status": "completed"
    },
    "tags": []
   },
   "source": [
    "Overview\n",
    "\n",
    "The data has been split into two groups:\n",
    "\n",
    "    data set (train.csv)\n",
    "    validation set (test.csv)\n",
    "\n",
    "The validation set should be used to build your machine learning models. For the data set, we provide the outcome (also known as the “ground truth”) for each passenger. Your model will be based on “features” like passengers’ gender and class. You can also use feature engineering to create new features.\n",
    "\n",
    "The test set should be used to see how well your model performs on unseen data. For the test set, we do not provide the ground truth for each passenger. It is your job to predict these outcomes. For each passenger in the test set, use the model you trained to predict whether or not they survived the sinking of the Titanic.\n"
   ]
  },
  {
   "cell_type": "code",
   "execution_count": 3,
   "id": "5481e28d",
   "metadata": {
    "execution": {
     "iopub.execute_input": "2024-12-23T09:55:48.562524Z",
     "iopub.status.busy": "2024-12-23T09:55:48.562188Z",
     "iopub.status.idle": "2024-12-23T09:55:48.602268Z",
     "shell.execute_reply": "2024-12-23T09:55:48.601284Z"
    },
    "executionInfo": {
     "elapsed": 9,
     "status": "ok",
     "timestamp": 1734524067637,
     "user": {
      "displayName": "Максим Равичев",
      "userId": "13749303498246737990"
     },
     "user_tz": -120
    },
    "id": "mQ9MrqLqiVHY",
    "outputId": "6584bdce-d756-48e1-c167-52067c7d27d9",
    "papermill": {
     "duration": 0.054029,
     "end_time": "2024-12-23T09:55:48.603870",
     "exception": false,
     "start_time": "2024-12-23T09:55:48.549841",
     "status": "completed"
    },
    "tags": []
   },
   "outputs": [
    {
     "name": "stdout",
     "output_type": "stream",
     "text": [
      "<class 'pandas.core.frame.DataFrame'>\n",
      "RangeIndex: 891 entries, 0 to 890\n",
      "Data columns (total 12 columns):\n",
      " #   Column       Non-Null Count  Dtype  \n",
      "---  ------       --------------  -----  \n",
      " 0   PassengerId  891 non-null    int64  \n",
      " 1   Survived     891 non-null    int64  \n",
      " 2   Pclass       891 non-null    int64  \n",
      " 3   Name         891 non-null    object \n",
      " 4   Sex          891 non-null    object \n",
      " 5   Age          714 non-null    float64\n",
      " 6   SibSp        891 non-null    int64  \n",
      " 7   Parch        891 non-null    int64  \n",
      " 8   Ticket       891 non-null    object \n",
      " 9   Fare         891 non-null    float64\n",
      " 10  Cabin        204 non-null    object \n",
      " 11  Embarked     889 non-null    object \n",
      "dtypes: float64(2), int64(5), object(5)\n",
      "memory usage: 83.7+ KB\n"
     ]
    },
    {
     "data": {
      "text/plain": [
       "None"
      ]
     },
     "metadata": {},
     "output_type": "display_data"
    },
    {
     "data": {
      "text/html": [
       "<div>\n",
       "<style scoped>\n",
       "    .dataframe tbody tr th:only-of-type {\n",
       "        vertical-align: middle;\n",
       "    }\n",
       "\n",
       "    .dataframe tbody tr th {\n",
       "        vertical-align: top;\n",
       "    }\n",
       "\n",
       "    .dataframe thead th {\n",
       "        text-align: right;\n",
       "    }\n",
       "</style>\n",
       "<table border=\"1\" class=\"dataframe\">\n",
       "  <thead>\n",
       "    <tr style=\"text-align: right;\">\n",
       "      <th></th>\n",
       "      <th>PassengerId</th>\n",
       "      <th>Survived</th>\n",
       "      <th>Pclass</th>\n",
       "      <th>Name</th>\n",
       "      <th>Sex</th>\n",
       "      <th>Age</th>\n",
       "      <th>SibSp</th>\n",
       "      <th>Parch</th>\n",
       "      <th>Ticket</th>\n",
       "      <th>Fare</th>\n",
       "      <th>Cabin</th>\n",
       "      <th>Embarked</th>\n",
       "    </tr>\n",
       "  </thead>\n",
       "  <tbody>\n",
       "    <tr>\n",
       "      <th>0</th>\n",
       "      <td>1</td>\n",
       "      <td>0</td>\n",
       "      <td>3</td>\n",
       "      <td>Braund, Mr. Owen Harris</td>\n",
       "      <td>male</td>\n",
       "      <td>22.0</td>\n",
       "      <td>1</td>\n",
       "      <td>0</td>\n",
       "      <td>A/5 21171</td>\n",
       "      <td>7.2500</td>\n",
       "      <td>NaN</td>\n",
       "      <td>S</td>\n",
       "    </tr>\n",
       "    <tr>\n",
       "      <th>1</th>\n",
       "      <td>2</td>\n",
       "      <td>1</td>\n",
       "      <td>1</td>\n",
       "      <td>Cumings, Mrs. John Bradley (Florence Briggs Th...</td>\n",
       "      <td>female</td>\n",
       "      <td>38.0</td>\n",
       "      <td>1</td>\n",
       "      <td>0</td>\n",
       "      <td>PC 17599</td>\n",
       "      <td>71.2833</td>\n",
       "      <td>C85</td>\n",
       "      <td>C</td>\n",
       "    </tr>\n",
       "    <tr>\n",
       "      <th>2</th>\n",
       "      <td>3</td>\n",
       "      <td>1</td>\n",
       "      <td>3</td>\n",
       "      <td>Heikkinen, Miss. Laina</td>\n",
       "      <td>female</td>\n",
       "      <td>26.0</td>\n",
       "      <td>0</td>\n",
       "      <td>0</td>\n",
       "      <td>STON/O2. 3101282</td>\n",
       "      <td>7.9250</td>\n",
       "      <td>NaN</td>\n",
       "      <td>S</td>\n",
       "    </tr>\n",
       "    <tr>\n",
       "      <th>3</th>\n",
       "      <td>4</td>\n",
       "      <td>1</td>\n",
       "      <td>1</td>\n",
       "      <td>Futrelle, Mrs. Jacques Heath (Lily May Peel)</td>\n",
       "      <td>female</td>\n",
       "      <td>35.0</td>\n",
       "      <td>1</td>\n",
       "      <td>0</td>\n",
       "      <td>113803</td>\n",
       "      <td>53.1000</td>\n",
       "      <td>C123</td>\n",
       "      <td>S</td>\n",
       "    </tr>\n",
       "    <tr>\n",
       "      <th>4</th>\n",
       "      <td>5</td>\n",
       "      <td>0</td>\n",
       "      <td>3</td>\n",
       "      <td>Allen, Mr. William Henry</td>\n",
       "      <td>male</td>\n",
       "      <td>35.0</td>\n",
       "      <td>0</td>\n",
       "      <td>0</td>\n",
       "      <td>373450</td>\n",
       "      <td>8.0500</td>\n",
       "      <td>NaN</td>\n",
       "      <td>S</td>\n",
       "    </tr>\n",
       "  </tbody>\n",
       "</table>\n",
       "</div>"
      ],
      "text/plain": [
       "   PassengerId  Survived  Pclass  \\\n",
       "0            1         0       3   \n",
       "1            2         1       1   \n",
       "2            3         1       3   \n",
       "3            4         1       1   \n",
       "4            5         0       3   \n",
       "\n",
       "                                                Name     Sex   Age  SibSp  \\\n",
       "0                            Braund, Mr. Owen Harris    male  22.0      1   \n",
       "1  Cumings, Mrs. John Bradley (Florence Briggs Th...  female  38.0      1   \n",
       "2                             Heikkinen, Miss. Laina  female  26.0      0   \n",
       "3       Futrelle, Mrs. Jacques Heath (Lily May Peel)  female  35.0      1   \n",
       "4                           Allen, Mr. William Henry    male  35.0      0   \n",
       "\n",
       "   Parch            Ticket     Fare Cabin Embarked  \n",
       "0      0         A/5 21171   7.2500   NaN        S  \n",
       "1      0          PC 17599  71.2833   C85        C  \n",
       "2      0  STON/O2. 3101282   7.9250   NaN        S  \n",
       "3      0            113803  53.1000  C123        S  \n",
       "4      0            373450   8.0500   NaN        S  "
      ]
     },
     "metadata": {},
     "output_type": "display_data"
    }
   ],
   "source": [
    "display(df.info())\n",
    "display(df.head())"
   ]
  },
  {
   "cell_type": "markdown",
   "id": "5f851948",
   "metadata": {
    "id": "zkaZcMRLh1yF",
    "papermill": {
     "duration": 0.011787,
     "end_time": "2024-12-23T09:55:48.627711",
     "exception": false,
     "start_time": "2024-12-23T09:55:48.615924",
     "status": "completed"
    },
    "tags": []
   },
   "source": [
    "![изображение.png](data:image/png;base64,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)\n",
    "\n"
   ]
  },
  {
   "cell_type": "markdown",
   "id": "86d0a814",
   "metadata": {
    "id": "Vomu_dBGj7rB",
    "papermill": {
     "duration": 0.011668,
     "end_time": "2024-12-23T09:55:48.651242",
     "exception": false,
     "start_time": "2024-12-23T09:55:48.639574",
     "status": "completed"
    },
    "tags": []
   },
   "source": [
    "Variable Notes\n",
    "\n",
    "**pclass**: A proxy for socio-economic status (SES)\n",
    "1st = Upper\n",
    "2nd = Middle\n",
    "3rd = Lower\n",
    "\n",
    "**age**: Age is fractional if less than 1. If the age is estimated, is it in the form of xx.5\n",
    "\n",
    "**sibsp**: The dataset defines family relations in this way...\n",
    "Sibling = brother, sister, stepbrother, stepsister\n",
    "Spouse = husband, wife (mistresses and fiancés were ignored)\n",
    "\n",
    "**parch**: The dataset defines family relations in this way...\n",
    "Parent = mother, father\n",
    "Child = daughter, son, stepdaughter, stepson\n",
    "Some children travelled only with a nanny, therefore parch=0 for them."
   ]
  },
  {
   "cell_type": "markdown",
   "id": "a262ae41",
   "metadata": {
    "id": "pmR4ekAm-Yjj",
    "papermill": {
     "duration": 0.011491,
     "end_time": "2024-12-23T09:55:48.674836",
     "exception": false,
     "start_time": "2024-12-23T09:55:48.663345",
     "status": "completed"
    },
    "tags": []
   },
   "source": [
    "## Some addition info"
   ]
  },
  {
   "cell_type": "markdown",
   "id": "4fa7e395",
   "metadata": {
    "id": "NITikZaT-dFu",
    "papermill": {
     "duration": 0.011414,
     "end_time": "2024-12-23T09:55:48.697977",
     "exception": false,
     "start_time": "2024-12-23T09:55:48.686563",
     "status": "completed"
    },
    "tags": []
   },
   "source": [
    "https://en.wikipedia.org/wiki/Titanic"
   ]
  },
  {
   "cell_type": "code",
   "execution_count": 4,
   "id": "35adea2f",
   "metadata": {
    "execution": {
     "iopub.execute_input": "2024-12-23T09:55:48.722804Z",
     "iopub.status.busy": "2024-12-23T09:55:48.722407Z",
     "iopub.status.idle": "2024-12-23T09:55:48.743067Z",
     "shell.execute_reply": "2024-12-23T09:55:48.742010Z"
    },
    "executionInfo": {
     "elapsed": 7,
     "status": "ok",
     "timestamp": 1734524067847,
     "user": {
      "displayName": "Максим Равичев",
      "userId": "13749303498246737990"
     },
     "user_tz": -120
    },
    "id": "QlP06Qko-STp",
    "outputId": "9212b049-6a44-4027-8b06-e206a059e5b1",
    "papermill": {
     "duration": 0.035056,
     "end_time": "2024-12-23T09:55:48.744845",
     "exception": false,
     "start_time": "2024-12-23T09:55:48.709789",
     "status": "completed"
    },
    "tags": []
   },
   "outputs": [
    {
     "data": {
      "text/html": [
       "<div>\n",
       "<style scoped>\n",
       "    .dataframe tbody tr th:only-of-type {\n",
       "        vertical-align: middle;\n",
       "    }\n",
       "\n",
       "    .dataframe tbody tr th {\n",
       "        vertical-align: top;\n",
       "    }\n",
       "\n",
       "    .dataframe thead th {\n",
       "        text-align: right;\n",
       "    }\n",
       "</style>\n",
       "<table border=\"1\" class=\"dataframe\">\n",
       "  <thead>\n",
       "    <tr style=\"text-align: right;\">\n",
       "      <th></th>\n",
       "      <th>PassengerId</th>\n",
       "      <th>Survived</th>\n",
       "      <th>Pclass</th>\n",
       "      <th>Name</th>\n",
       "      <th>Sex</th>\n",
       "      <th>Age</th>\n",
       "      <th>SibSp</th>\n",
       "      <th>Parch</th>\n",
       "      <th>Ticket</th>\n",
       "      <th>Fare</th>\n",
       "      <th>Cabin</th>\n",
       "      <th>Embarked</th>\n",
       "    </tr>\n",
       "  </thead>\n",
       "  <tbody>\n",
       "    <tr>\n",
       "      <th>271</th>\n",
       "      <td>272</td>\n",
       "      <td>1</td>\n",
       "      <td>3</td>\n",
       "      <td>Tornquist, Mr. William Henry</td>\n",
       "      <td>male</td>\n",
       "      <td>25.0</td>\n",
       "      <td>0</td>\n",
       "      <td>0</td>\n",
       "      <td>LINE</td>\n",
       "      <td>0.0000</td>\n",
       "      <td>NaN</td>\n",
       "      <td>S</td>\n",
       "    </tr>\n",
       "    <tr>\n",
       "      <th>597</th>\n",
       "      <td>598</td>\n",
       "      <td>0</td>\n",
       "      <td>3</td>\n",
       "      <td>Johnson, Mr. Alfred</td>\n",
       "      <td>male</td>\n",
       "      <td>49.0</td>\n",
       "      <td>0</td>\n",
       "      <td>0</td>\n",
       "      <td>LINE</td>\n",
       "      <td>0.0000</td>\n",
       "      <td>NaN</td>\n",
       "      <td>S</td>\n",
       "    </tr>\n",
       "    <tr>\n",
       "      <th>302</th>\n",
       "      <td>303</td>\n",
       "      <td>0</td>\n",
       "      <td>3</td>\n",
       "      <td>Johnson, Mr. William Cahoone Jr</td>\n",
       "      <td>male</td>\n",
       "      <td>19.0</td>\n",
       "      <td>0</td>\n",
       "      <td>0</td>\n",
       "      <td>LINE</td>\n",
       "      <td>0.0000</td>\n",
       "      <td>NaN</td>\n",
       "      <td>S</td>\n",
       "    </tr>\n",
       "    <tr>\n",
       "      <th>633</th>\n",
       "      <td>634</td>\n",
       "      <td>0</td>\n",
       "      <td>1</td>\n",
       "      <td>Parr, Mr. William Henry Marsh</td>\n",
       "      <td>male</td>\n",
       "      <td>NaN</td>\n",
       "      <td>0</td>\n",
       "      <td>0</td>\n",
       "      <td>112052</td>\n",
       "      <td>0.0000</td>\n",
       "      <td>NaN</td>\n",
       "      <td>S</td>\n",
       "    </tr>\n",
       "    <tr>\n",
       "      <th>277</th>\n",
       "      <td>278</td>\n",
       "      <td>0</td>\n",
       "      <td>2</td>\n",
       "      <td>Parkes, Mr. Francis \"Frank\"</td>\n",
       "      <td>male</td>\n",
       "      <td>NaN</td>\n",
       "      <td>0</td>\n",
       "      <td>0</td>\n",
       "      <td>239853</td>\n",
       "      <td>0.0000</td>\n",
       "      <td>NaN</td>\n",
       "      <td>S</td>\n",
       "    </tr>\n",
       "    <tr>\n",
       "      <th>413</th>\n",
       "      <td>414</td>\n",
       "      <td>0</td>\n",
       "      <td>2</td>\n",
       "      <td>Cunningham, Mr. Alfred Fleming</td>\n",
       "      <td>male</td>\n",
       "      <td>NaN</td>\n",
       "      <td>0</td>\n",
       "      <td>0</td>\n",
       "      <td>239853</td>\n",
       "      <td>0.0000</td>\n",
       "      <td>NaN</td>\n",
       "      <td>S</td>\n",
       "    </tr>\n",
       "    <tr>\n",
       "      <th>674</th>\n",
       "      <td>675</td>\n",
       "      <td>0</td>\n",
       "      <td>2</td>\n",
       "      <td>Watson, Mr. Ennis Hastings</td>\n",
       "      <td>male</td>\n",
       "      <td>NaN</td>\n",
       "      <td>0</td>\n",
       "      <td>0</td>\n",
       "      <td>239856</td>\n",
       "      <td>0.0000</td>\n",
       "      <td>NaN</td>\n",
       "      <td>S</td>\n",
       "    </tr>\n",
       "    <tr>\n",
       "      <th>263</th>\n",
       "      <td>264</td>\n",
       "      <td>0</td>\n",
       "      <td>1</td>\n",
       "      <td>Harrison, Mr. William</td>\n",
       "      <td>male</td>\n",
       "      <td>40.0</td>\n",
       "      <td>0</td>\n",
       "      <td>0</td>\n",
       "      <td>112059</td>\n",
       "      <td>0.0000</td>\n",
       "      <td>B94</td>\n",
       "      <td>S</td>\n",
       "    </tr>\n",
       "    <tr>\n",
       "      <th>466</th>\n",
       "      <td>467</td>\n",
       "      <td>0</td>\n",
       "      <td>2</td>\n",
       "      <td>Campbell, Mr. William</td>\n",
       "      <td>male</td>\n",
       "      <td>NaN</td>\n",
       "      <td>0</td>\n",
       "      <td>0</td>\n",
       "      <td>239853</td>\n",
       "      <td>0.0000</td>\n",
       "      <td>NaN</td>\n",
       "      <td>S</td>\n",
       "    </tr>\n",
       "    <tr>\n",
       "      <th>732</th>\n",
       "      <td>733</td>\n",
       "      <td>0</td>\n",
       "      <td>2</td>\n",
       "      <td>Knight, Mr. Robert J</td>\n",
       "      <td>male</td>\n",
       "      <td>NaN</td>\n",
       "      <td>0</td>\n",
       "      <td>0</td>\n",
       "      <td>239855</td>\n",
       "      <td>0.0000</td>\n",
       "      <td>NaN</td>\n",
       "      <td>S</td>\n",
       "    </tr>\n",
       "    <tr>\n",
       "      <th>179</th>\n",
       "      <td>180</td>\n",
       "      <td>0</td>\n",
       "      <td>3</td>\n",
       "      <td>Leonard, Mr. Lionel</td>\n",
       "      <td>male</td>\n",
       "      <td>36.0</td>\n",
       "      <td>0</td>\n",
       "      <td>0</td>\n",
       "      <td>LINE</td>\n",
       "      <td>0.0000</td>\n",
       "      <td>NaN</td>\n",
       "      <td>S</td>\n",
       "    </tr>\n",
       "    <tr>\n",
       "      <th>806</th>\n",
       "      <td>807</td>\n",
       "      <td>0</td>\n",
       "      <td>1</td>\n",
       "      <td>Andrews, Mr. Thomas Jr</td>\n",
       "      <td>male</td>\n",
       "      <td>39.0</td>\n",
       "      <td>0</td>\n",
       "      <td>0</td>\n",
       "      <td>112050</td>\n",
       "      <td>0.0000</td>\n",
       "      <td>A36</td>\n",
       "      <td>S</td>\n",
       "    </tr>\n",
       "    <tr>\n",
       "      <th>481</th>\n",
       "      <td>482</td>\n",
       "      <td>0</td>\n",
       "      <td>2</td>\n",
       "      <td>Frost, Mr. Anthony Wood \"Archie\"</td>\n",
       "      <td>male</td>\n",
       "      <td>NaN</td>\n",
       "      <td>0</td>\n",
       "      <td>0</td>\n",
       "      <td>239854</td>\n",
       "      <td>0.0000</td>\n",
       "      <td>NaN</td>\n",
       "      <td>S</td>\n",
       "    </tr>\n",
       "    <tr>\n",
       "      <th>822</th>\n",
       "      <td>823</td>\n",
       "      <td>0</td>\n",
       "      <td>1</td>\n",
       "      <td>Reuchlin, Jonkheer. John George</td>\n",
       "      <td>male</td>\n",
       "      <td>38.0</td>\n",
       "      <td>0</td>\n",
       "      <td>0</td>\n",
       "      <td>19972</td>\n",
       "      <td>0.0000</td>\n",
       "      <td>NaN</td>\n",
       "      <td>S</td>\n",
       "    </tr>\n",
       "    <tr>\n",
       "      <th>815</th>\n",
       "      <td>816</td>\n",
       "      <td>0</td>\n",
       "      <td>1</td>\n",
       "      <td>Fry, Mr. Richard</td>\n",
       "      <td>male</td>\n",
       "      <td>NaN</td>\n",
       "      <td>0</td>\n",
       "      <td>0</td>\n",
       "      <td>112058</td>\n",
       "      <td>0.0000</td>\n",
       "      <td>B102</td>\n",
       "      <td>S</td>\n",
       "    </tr>\n",
       "    <tr>\n",
       "      <th>378</th>\n",
       "      <td>379</td>\n",
       "      <td>0</td>\n",
       "      <td>3</td>\n",
       "      <td>Betros, Mr. Tannous</td>\n",
       "      <td>male</td>\n",
       "      <td>20.0</td>\n",
       "      <td>0</td>\n",
       "      <td>0</td>\n",
       "      <td>2648</td>\n",
       "      <td>4.0125</td>\n",
       "      <td>NaN</td>\n",
       "      <td>C</td>\n",
       "    </tr>\n",
       "    <tr>\n",
       "      <th>872</th>\n",
       "      <td>873</td>\n",
       "      <td>0</td>\n",
       "      <td>1</td>\n",
       "      <td>Carlsson, Mr. Frans Olof</td>\n",
       "      <td>male</td>\n",
       "      <td>33.0</td>\n",
       "      <td>0</td>\n",
       "      <td>0</td>\n",
       "      <td>695</td>\n",
       "      <td>5.0000</td>\n",
       "      <td>B51 B53 B55</td>\n",
       "      <td>S</td>\n",
       "    </tr>\n",
       "    <tr>\n",
       "      <th>326</th>\n",
       "      <td>327</td>\n",
       "      <td>0</td>\n",
       "      <td>3</td>\n",
       "      <td>Nysveen, Mr. Johan Hansen</td>\n",
       "      <td>male</td>\n",
       "      <td>61.0</td>\n",
       "      <td>0</td>\n",
       "      <td>0</td>\n",
       "      <td>345364</td>\n",
       "      <td>6.2375</td>\n",
       "      <td>NaN</td>\n",
       "      <td>S</td>\n",
       "    </tr>\n",
       "    <tr>\n",
       "      <th>843</th>\n",
       "      <td>844</td>\n",
       "      <td>0</td>\n",
       "      <td>3</td>\n",
       "      <td>Lemberopolous, Mr. Peter L</td>\n",
       "      <td>male</td>\n",
       "      <td>34.5</td>\n",
       "      <td>0</td>\n",
       "      <td>0</td>\n",
       "      <td>2683</td>\n",
       "      <td>6.4375</td>\n",
       "      <td>NaN</td>\n",
       "      <td>C</td>\n",
       "    </tr>\n",
       "    <tr>\n",
       "      <th>818</th>\n",
       "      <td>819</td>\n",
       "      <td>0</td>\n",
       "      <td>3</td>\n",
       "      <td>Holm, Mr. John Fredrik Alexander</td>\n",
       "      <td>male</td>\n",
       "      <td>43.0</td>\n",
       "      <td>0</td>\n",
       "      <td>0</td>\n",
       "      <td>C 7075</td>\n",
       "      <td>6.4500</td>\n",
       "      <td>NaN</td>\n",
       "      <td>S</td>\n",
       "    </tr>\n",
       "    <tr>\n",
       "      <th>371</th>\n",
       "      <td>372</td>\n",
       "      <td>0</td>\n",
       "      <td>3</td>\n",
       "      <td>Wiklund, Mr. Jakob Alfred</td>\n",
       "      <td>male</td>\n",
       "      <td>18.0</td>\n",
       "      <td>1</td>\n",
       "      <td>0</td>\n",
       "      <td>3101267</td>\n",
       "      <td>6.4958</td>\n",
       "      <td>NaN</td>\n",
       "      <td>S</td>\n",
       "    </tr>\n",
       "    <tr>\n",
       "      <th>202</th>\n",
       "      <td>203</td>\n",
       "      <td>0</td>\n",
       "      <td>3</td>\n",
       "      <td>Johanson, Mr. Jakob Alfred</td>\n",
       "      <td>male</td>\n",
       "      <td>34.0</td>\n",
       "      <td>0</td>\n",
       "      <td>0</td>\n",
       "      <td>3101264</td>\n",
       "      <td>6.4958</td>\n",
       "      <td>NaN</td>\n",
       "      <td>S</td>\n",
       "    </tr>\n",
       "    <tr>\n",
       "      <th>654</th>\n",
       "      <td>655</td>\n",
       "      <td>0</td>\n",
       "      <td>3</td>\n",
       "      <td>Hegarty, Miss. Hanora \"Nora\"</td>\n",
       "      <td>female</td>\n",
       "      <td>18.0</td>\n",
       "      <td>0</td>\n",
       "      <td>0</td>\n",
       "      <td>365226</td>\n",
       "      <td>6.7500</td>\n",
       "      <td>NaN</td>\n",
       "      <td>Q</td>\n",
       "    </tr>\n",
       "    <tr>\n",
       "      <th>143</th>\n",
       "      <td>144</td>\n",
       "      <td>0</td>\n",
       "      <td>3</td>\n",
       "      <td>Burke, Mr. Jeremiah</td>\n",
       "      <td>male</td>\n",
       "      <td>19.0</td>\n",
       "      <td>0</td>\n",
       "      <td>0</td>\n",
       "      <td>365222</td>\n",
       "      <td>6.7500</td>\n",
       "      <td>NaN</td>\n",
       "      <td>Q</td>\n",
       "    </tr>\n",
       "    <tr>\n",
       "      <th>411</th>\n",
       "      <td>412</td>\n",
       "      <td>0</td>\n",
       "      <td>3</td>\n",
       "      <td>Hart, Mr. Henry</td>\n",
       "      <td>male</td>\n",
       "      <td>NaN</td>\n",
       "      <td>0</td>\n",
       "      <td>0</td>\n",
       "      <td>394140</td>\n",
       "      <td>6.8583</td>\n",
       "      <td>NaN</td>\n",
       "      <td>Q</td>\n",
       "    </tr>\n",
       "  </tbody>\n",
       "</table>\n",
       "</div>"
      ],
      "text/plain": [
       "     PassengerId  Survived  Pclass                              Name     Sex  \\\n",
       "271          272         1       3      Tornquist, Mr. William Henry    male   \n",
       "597          598         0       3               Johnson, Mr. Alfred    male   \n",
       "302          303         0       3   Johnson, Mr. William Cahoone Jr    male   \n",
       "633          634         0       1     Parr, Mr. William Henry Marsh    male   \n",
       "277          278         0       2       Parkes, Mr. Francis \"Frank\"    male   \n",
       "413          414         0       2    Cunningham, Mr. Alfred Fleming    male   \n",
       "674          675         0       2        Watson, Mr. Ennis Hastings    male   \n",
       "263          264         0       1             Harrison, Mr. William    male   \n",
       "466          467         0       2             Campbell, Mr. William    male   \n",
       "732          733         0       2              Knight, Mr. Robert J    male   \n",
       "179          180         0       3               Leonard, Mr. Lionel    male   \n",
       "806          807         0       1            Andrews, Mr. Thomas Jr    male   \n",
       "481          482         0       2  Frost, Mr. Anthony Wood \"Archie\"    male   \n",
       "822          823         0       1   Reuchlin, Jonkheer. John George    male   \n",
       "815          816         0       1                  Fry, Mr. Richard    male   \n",
       "378          379         0       3               Betros, Mr. Tannous    male   \n",
       "872          873         0       1          Carlsson, Mr. Frans Olof    male   \n",
       "326          327         0       3         Nysveen, Mr. Johan Hansen    male   \n",
       "843          844         0       3        Lemberopolous, Mr. Peter L    male   \n",
       "818          819         0       3  Holm, Mr. John Fredrik Alexander    male   \n",
       "371          372         0       3         Wiklund, Mr. Jakob Alfred    male   \n",
       "202          203         0       3        Johanson, Mr. Jakob Alfred    male   \n",
       "654          655         0       3      Hegarty, Miss. Hanora \"Nora\"  female   \n",
       "143          144         0       3               Burke, Mr. Jeremiah    male   \n",
       "411          412         0       3                   Hart, Mr. Henry    male   \n",
       "\n",
       "      Age  SibSp  Parch   Ticket    Fare        Cabin Embarked  \n",
       "271  25.0      0      0     LINE  0.0000          NaN        S  \n",
       "597  49.0      0      0     LINE  0.0000          NaN        S  \n",
       "302  19.0      0      0     LINE  0.0000          NaN        S  \n",
       "633   NaN      0      0   112052  0.0000          NaN        S  \n",
       "277   NaN      0      0   239853  0.0000          NaN        S  \n",
       "413   NaN      0      0   239853  0.0000          NaN        S  \n",
       "674   NaN      0      0   239856  0.0000          NaN        S  \n",
       "263  40.0      0      0   112059  0.0000          B94        S  \n",
       "466   NaN      0      0   239853  0.0000          NaN        S  \n",
       "732   NaN      0      0   239855  0.0000          NaN        S  \n",
       "179  36.0      0      0     LINE  0.0000          NaN        S  \n",
       "806  39.0      0      0   112050  0.0000          A36        S  \n",
       "481   NaN      0      0   239854  0.0000          NaN        S  \n",
       "822  38.0      0      0    19972  0.0000          NaN        S  \n",
       "815   NaN      0      0   112058  0.0000         B102        S  \n",
       "378  20.0      0      0     2648  4.0125          NaN        C  \n",
       "872  33.0      0      0      695  5.0000  B51 B53 B55        S  \n",
       "326  61.0      0      0   345364  6.2375          NaN        S  \n",
       "843  34.5      0      0     2683  6.4375          NaN        C  \n",
       "818  43.0      0      0   C 7075  6.4500          NaN        S  \n",
       "371  18.0      1      0  3101267  6.4958          NaN        S  \n",
       "202  34.0      0      0  3101264  6.4958          NaN        S  \n",
       "654  18.0      0      0   365226  6.7500          NaN        Q  \n",
       "143  19.0      0      0   365222  6.7500          NaN        Q  \n",
       "411   NaN      0      0   394140  6.8583          NaN        Q  "
      ]
     },
     "execution_count": 4,
     "metadata": {},
     "output_type": "execute_result"
    }
   ],
   "source": [
    "df.sort_values(by='Fare').head(25)"
   ]
  },
  {
   "cell_type": "code",
   "execution_count": 5,
   "id": "df33e150",
   "metadata": {
    "execution": {
     "iopub.execute_input": "2024-12-23T09:55:48.771987Z",
     "iopub.status.busy": "2024-12-23T09:55:48.771613Z",
     "iopub.status.idle": "2024-12-23T09:55:48.785594Z",
     "shell.execute_reply": "2024-12-23T09:55:48.784677Z"
    },
    "executionInfo": {
     "elapsed": 6,
     "status": "ok",
     "timestamp": 1734524067848,
     "user": {
      "displayName": "Максим Равичев",
      "userId": "13749303498246737990"
     },
     "user_tz": -120
    },
    "id": "v3jZj_ISA4Vn",
    "outputId": "25ea0278-5dc4-4b42-fa52-9efd991195b7",
    "papermill": {
     "duration": 0.029066,
     "end_time": "2024-12-23T09:55:48.786990",
     "exception": false,
     "start_time": "2024-12-23T09:55:48.757924",
     "status": "completed"
    },
    "tags": []
   },
   "outputs": [
    {
     "data": {
      "text/html": [
       "<div>\n",
       "<style scoped>\n",
       "    .dataframe tbody tr th:only-of-type {\n",
       "        vertical-align: middle;\n",
       "    }\n",
       "\n",
       "    .dataframe tbody tr th {\n",
       "        vertical-align: top;\n",
       "    }\n",
       "\n",
       "    .dataframe thead th {\n",
       "        text-align: right;\n",
       "    }\n",
       "</style>\n",
       "<table border=\"1\" class=\"dataframe\">\n",
       "  <thead>\n",
       "    <tr style=\"text-align: right;\">\n",
       "      <th></th>\n",
       "      <th>PassengerId</th>\n",
       "      <th>Pclass</th>\n",
       "      <th>Name</th>\n",
       "      <th>Sex</th>\n",
       "      <th>Age</th>\n",
       "      <th>SibSp</th>\n",
       "      <th>Parch</th>\n",
       "      <th>Ticket</th>\n",
       "      <th>Fare</th>\n",
       "      <th>Cabin</th>\n",
       "      <th>Embarked</th>\n",
       "    </tr>\n",
       "  </thead>\n",
       "  <tbody>\n",
       "    <tr>\n",
       "      <th>266</th>\n",
       "      <td>1158</td>\n",
       "      <td>1</td>\n",
       "      <td>Chisholm, Mr. Roderick Robert Crispin</td>\n",
       "      <td>male</td>\n",
       "      <td>NaN</td>\n",
       "      <td>0</td>\n",
       "      <td>0</td>\n",
       "      <td>112051</td>\n",
       "      <td>0.0000</td>\n",
       "      <td>NaN</td>\n",
       "      <td>S</td>\n",
       "    </tr>\n",
       "    <tr>\n",
       "      <th>372</th>\n",
       "      <td>1264</td>\n",
       "      <td>1</td>\n",
       "      <td>Ismay, Mr. Joseph Bruce</td>\n",
       "      <td>male</td>\n",
       "      <td>49.0</td>\n",
       "      <td>0</td>\n",
       "      <td>0</td>\n",
       "      <td>112058</td>\n",
       "      <td>0.0000</td>\n",
       "      <td>B52 B54 B56</td>\n",
       "      <td>S</td>\n",
       "    </tr>\n",
       "    <tr>\n",
       "      <th>21</th>\n",
       "      <td>913</td>\n",
       "      <td>3</td>\n",
       "      <td>Olsen, Master. Artur Karl</td>\n",
       "      <td>male</td>\n",
       "      <td>9.0</td>\n",
       "      <td>0</td>\n",
       "      <td>1</td>\n",
       "      <td>C 17368</td>\n",
       "      <td>3.1708</td>\n",
       "      <td>NaN</td>\n",
       "      <td>S</td>\n",
       "    </tr>\n",
       "    <tr>\n",
       "      <th>133</th>\n",
       "      <td>1025</td>\n",
       "      <td>3</td>\n",
       "      <td>Thomas, Mr. Charles P</td>\n",
       "      <td>male</td>\n",
       "      <td>NaN</td>\n",
       "      <td>1</td>\n",
       "      <td>0</td>\n",
       "      <td>2621</td>\n",
       "      <td>6.4375</td>\n",
       "      <td>NaN</td>\n",
       "      <td>C</td>\n",
       "    </tr>\n",
       "    <tr>\n",
       "      <th>116</th>\n",
       "      <td>1008</td>\n",
       "      <td>3</td>\n",
       "      <td>Thomas, Mr. John</td>\n",
       "      <td>male</td>\n",
       "      <td>NaN</td>\n",
       "      <td>0</td>\n",
       "      <td>0</td>\n",
       "      <td>2681</td>\n",
       "      <td>6.4375</td>\n",
       "      <td>NaN</td>\n",
       "      <td>C</td>\n",
       "    </tr>\n",
       "  </tbody>\n",
       "</table>\n",
       "</div>"
      ],
      "text/plain": [
       "     PassengerId  Pclass                                   Name   Sex   Age  \\\n",
       "266         1158       1  Chisholm, Mr. Roderick Robert Crispin  male   NaN   \n",
       "372         1264       1                Ismay, Mr. Joseph Bruce  male  49.0   \n",
       "21           913       3              Olsen, Master. Artur Karl  male   9.0   \n",
       "133         1025       3                  Thomas, Mr. Charles P  male   NaN   \n",
       "116         1008       3                       Thomas, Mr. John  male   NaN   \n",
       "\n",
       "     SibSp  Parch   Ticket    Fare        Cabin Embarked  \n",
       "266      0      0   112051  0.0000          NaN        S  \n",
       "372      0      0   112058  0.0000  B52 B54 B56        S  \n",
       "21       0      1  C 17368  3.1708          NaN        S  \n",
       "133      1      0     2621  6.4375          NaN        C  \n",
       "116      0      0     2681  6.4375          NaN        C  "
      ]
     },
     "execution_count": 5,
     "metadata": {},
     "output_type": "execute_result"
    }
   ],
   "source": [
    "valid_df.sort_values(by='Fare').head(5)"
   ]
  },
  {
   "cell_type": "markdown",
   "id": "45b40f5b",
   "metadata": {
    "id": "xg5WO08SAQo2",
    "papermill": {
     "duration": 0.013046,
     "end_time": "2024-12-23T09:55:48.812911",
     "exception": false,
     "start_time": "2024-12-23T09:55:48.799865",
     "status": "completed"
    },
    "tags": []
   },
   "source": [
    "Three employees of American Line, as well as other staff members[Harland & Wolff : Titanic Guarantee Group](https://www.encyclopedia-titanica.org/titanic-guarantee-group/) were people who ended up on the Titanic for free, so they should be separated from other passengers for accurate ticket price predictions."
   ]
  },
  {
   "cell_type": "markdown",
   "id": "edf0d971",
   "metadata": {
    "id": "wwB7Do1xSxlr",
    "papermill": {
     "duration": 0.012583,
     "end_time": "2024-12-23T09:55:48.838848",
     "exception": false,
     "start_time": "2024-12-23T09:55:48.826265",
     "status": "completed"
    },
    "tags": []
   },
   "source": [
    "The \"T\" deck is an exception - [Blackwell](https://www.encyclopedia-titanica.org/titanic-victim/stephen-weart-blackwell.html) occupied cabin \"T\" on the Boat Deck"
   ]
  },
  {
   "cell_type": "markdown",
   "id": "eb86b63c",
   "metadata": {
    "id": "xQZ3Rco-hJBX",
    "papermill": {
     "duration": 0.012436,
     "end_time": "2024-12-23T09:55:48.863963",
     "exception": false,
     "start_time": "2024-12-23T09:55:48.851527",
     "status": "completed"
    },
    "tags": []
   },
   "source": [
    "# Dataset preprocessing"
   ]
  },
  {
   "cell_type": "markdown",
   "id": "10078925",
   "metadata": {
    "id": "h1Dv4K550DFU",
    "papermill": {
     "duration": 0.012294,
     "end_time": "2024-12-23T09:55:48.889097",
     "exception": false,
     "start_time": "2024-12-23T09:55:48.876803",
     "status": "completed"
    },
    "tags": []
   },
   "source": [
    "# Transformer class"
   ]
  },
  {
   "cell_type": "markdown",
   "id": "abe6c510",
   "metadata": {
    "id": "abo5aPc3SNM4",
    "papermill": {
     "duration": 0.0125,
     "end_time": "2024-12-23T09:55:48.914325",
     "exception": false,
     "start_time": "2024-12-23T09:55:48.901825",
     "status": "completed"
    },
    "tags": []
   },
   "source": [
    "A multitasking class that handles all the work of preparing the DataFrame for the model."
   ]
  },
  {
   "cell_type": "code",
   "execution_count": 6,
   "id": "cd94e110",
   "metadata": {
    "execution": {
     "iopub.execute_input": "2024-12-23T09:55:48.941550Z",
     "iopub.status.busy": "2024-12-23T09:55:48.941206Z",
     "iopub.status.idle": "2024-12-23T09:55:48.959157Z",
     "shell.execute_reply": "2024-12-23T09:55:48.958285Z"
    },
    "executionInfo": {
     "elapsed": 216,
     "status": "ok",
     "timestamp": 1734524068060,
     "user": {
      "displayName": "Максим Равичев",
      "userId": "13749303498246737990"
     },
     "user_tz": -120
    },
    "id": "6wKxIJ_k9kP7",
    "papermill": {
     "duration": 0.033492,
     "end_time": "2024-12-23T09:55:48.960879",
     "exception": false,
     "start_time": "2024-12-23T09:55:48.927387",
     "status": "completed"
    },
    "tags": []
   },
   "outputs": [],
   "source": [
    "class TitanicTransformer(BaseEstimator, TransformerMixin):\n",
    "\n",
    "  def fit(self, X, y=None):\n",
    "        return self\n",
    "\n",
    "  def transform(self, X):\n",
    "    \"\"\"It converts data to numerical types, fills in missing values, and adds new columns.\"\"\"\n",
    "    #workers id that i found in \"some addition info\"\n",
    "    self.workers_pid=[272, 598, 303, 634, 278, 414, 675, 264, 467, 733, 180, 807, 482, 823, 816, 873, 340, 1158]\n",
    "    # A dictionary of possible Deck values for each Pclass.\n",
    "    self.deck_choices = {\n",
    "        1: ['A', 'B', 'C', 'D', 'E'],\n",
    "        2: ['D', 'E', 'F'],\n",
    "        3: ['E', 'F','G']\n",
    "    }\n",
    "    # feachure importance show that is_worker is useless, but i still leave it here to tell it\n",
    "    X['is_worker'] = X['PassengerId'].isin(self.workers_pid).astype(int)\n",
    "\n",
    "    # change of full columns into num type\n",
    "    X['Embarked'] = X['Embarked'].map({'S': 0, 'C': 1, 'Q':2})\n",
    "    X['Sex'] = X['Sex'].map({'male': 1, 'female': 0})\n",
    "    # filling nans\n",
    "    X['Age'].fillna(X['Age'].median(), inplace = True)\n",
    "    X['Fare'].fillna(X['Fare'].median(), inplace = True)\n",
    "\n",
    "    # Adding some more addition columns\n",
    "    X['FamilySize'] = X['SibSp'] + X['Parch'] + 1\n",
    "    X['IsAlone'] = 1\n",
    "    X['IsAlone'].loc[X['FamilySize'] > 1] = 0\n",
    "    X['Title'] = X['Name'].str.split(\", \", expand=True)[1].str.split(\".\", expand=True)[0]\n",
    "    X = X.drop('Name', axis=1)\n",
    "    # Minimal same titles that lates sets to \"Misc\"\n",
    "    stat_min = 10\n",
    "    title_names = (X['Title'].value_counts() < stat_min)\n",
    "    X['Title'] = X['Title'].apply(lambda x: 'Misc' if title_names.loc[x] == True else x)\n",
    "\n",
    "    # changing some columns into more effective and encoding them\n",
    "    X['FareBin'] = pd.qcut(X['Fare'], 4)\n",
    "    X['AgeBin'] = pd.cut(X['Age'].astype(int), 5)\n",
    "    label = LabelEncoder()\n",
    "    X['Title_Code'] = label.fit_transform(X['Title'])\n",
    "    X = X.drop('Title', axis=1)\n",
    "    X['AgeBin_Code'] = label.fit_transform(X['AgeBin'])\n",
    "    X = X.drop('AgeBin', axis=1)\n",
    "    X['FareBin_Code'] = label.fit_transform(X['FareBin'])\n",
    "    X = X.drop('FareBin', axis=1)\n",
    "\n",
    "    #Ticket is just useless\n",
    "    X = X.drop('Ticket', axis=1)\n",
    "\n",
    "    # Adding Deck column that maded from Cabin and filling based on PClass\n",
    "    X=self.deck_add(X)\n",
    "\n",
    "    X['is_child'] = (X['Age'] < 14).astype(int)\n",
    "    X['is_old'] = (X['Age'] > 50).astype(int)\n",
    "\n",
    "    return X\n",
    "\n",
    "\n",
    "  def fill_deck(self,row):\n",
    "      deck_value = row['Deck']\n",
    "      if isinstance(deck_value, list):\n",
    "          if not deck_value:\n",
    "              pclass = row['Pclass']\n",
    "              new_deck = np.random.choice(self.deck_choices[pclass])  # random taking Deck from dictionary based on PClass\n",
    "              return [new_deck]\n",
    "\n",
    "      elif pd.isna(deck_value):\n",
    "          pclass = row['Pclass']\n",
    "          new_deck = np.random.choice(self.deck_choices[pclass])  # random taking Deck from dictionary based on PClass\n",
    "          return [new_deck]\n",
    "      return deck_value\n",
    "\n",
    "\n",
    "\n",
    "  def deck_add(self,X):\n",
    "      X['Deck'] = X['Cabin'].str.findall(r'[A-Za-z]+')\n",
    "      # Some workers have special deck, so cut them out before random filling\n",
    "      X_add= X[~(X['is_worker']==1)]\n",
    "      X_add['Deck'] = X_add.apply(self.fill_deck, axis=1)\n",
    "\n",
    "      # dont forget about workers\n",
    "      filtered_rows = X[X['is_worker']==1]\n",
    "      X = pd.concat([X_add, filtered_rows], ignore_index=True)\n",
    "\n",
    "      # Since Deck contains lists, we have to use .explode and then collapse it back after processing.\n",
    "      X = X.explode('Deck')\n",
    "      X['Deck']=X['Deck'].map({'A': 1,'B':2,'C':3,'D':4,'E':5,'F':6,'G':7,'T':0})\n",
    "      X = X.groupby(X.index).agg({\n",
    "          'Deck': lambda x: list(x.dropna().unique()),\n",
    "          **{col: 'first' for col in X.columns if col != 'Deck'}\n",
    "      }).reset_index(drop=True)\n",
    "\n",
    "      # i manualy found some exceptions in trainig df\n",
    "      X['Deck'] = X['Deck'].apply(lambda x: [6.0] if x == [6.0, 7.0] else x)\n",
    "      X['Deck'] = X['Deck'].apply(lambda x: [6.0] if x == [6.0, 5.0] else x)\n",
    "\n",
    "      # For all else it will be 0 that equals \"exception\"\n",
    "      X = X.explode('Deck')\n",
    "      X['Deck'] = X['Deck'].fillna(0)\n",
    "\n",
    "      #Adding new column, and droping non informative\n",
    "      X['Cabin_not_Nan'] = X['Cabin'].fillna(0).apply(lambda x: 1 if x != 0 else 0)\n",
    "      X = X.drop('Cabin', axis=1)\n",
    "      return X\n",
    "\n"
   ]
  },
  {
   "cell_type": "markdown",
   "id": "26db3648",
   "metadata": {
    "id": "LAJUYnLEskie",
    "papermill": {
     "duration": 0.012607,
     "end_time": "2024-12-23T09:55:48.988202",
     "exception": false,
     "start_time": "2024-12-23T09:55:48.975595",
     "status": "completed"
    },
    "tags": []
   },
   "source": [
    "# Embarked fill"
   ]
  },
  {
   "cell_type": "code",
   "execution_count": 7,
   "id": "be104d31",
   "metadata": {
    "execution": {
     "iopub.execute_input": "2024-12-23T09:55:49.015800Z",
     "iopub.status.busy": "2024-12-23T09:55:49.015431Z",
     "iopub.status.idle": "2024-12-23T09:55:49.028670Z",
     "shell.execute_reply": "2024-12-23T09:55:49.027844Z"
    },
    "executionInfo": {
     "elapsed": 5,
     "status": "ok",
     "timestamp": 1734524068060,
     "user": {
      "displayName": "Максим Равичев",
      "userId": "13749303498246737990"
     },
     "user_tz": -120
    },
    "id": "h2nyYv-5k0-d",
    "outputId": "3f30df0d-e806-4391-d25c-04de1c34c81d",
    "papermill": {
     "duration": 0.028973,
     "end_time": "2024-12-23T09:55:49.030252",
     "exception": false,
     "start_time": "2024-12-23T09:55:49.001279",
     "status": "completed"
    },
    "tags": []
   },
   "outputs": [
    {
     "data": {
      "text/html": [
       "<div>\n",
       "<style scoped>\n",
       "    .dataframe tbody tr th:only-of-type {\n",
       "        vertical-align: middle;\n",
       "    }\n",
       "\n",
       "    .dataframe tbody tr th {\n",
       "        vertical-align: top;\n",
       "    }\n",
       "\n",
       "    .dataframe thead th {\n",
       "        text-align: right;\n",
       "    }\n",
       "</style>\n",
       "<table border=\"1\" class=\"dataframe\">\n",
       "  <thead>\n",
       "    <tr style=\"text-align: right;\">\n",
       "      <th></th>\n",
       "      <th>PassengerId</th>\n",
       "      <th>Survived</th>\n",
       "      <th>Pclass</th>\n",
       "      <th>Name</th>\n",
       "      <th>Sex</th>\n",
       "      <th>Age</th>\n",
       "      <th>SibSp</th>\n",
       "      <th>Parch</th>\n",
       "      <th>Ticket</th>\n",
       "      <th>Fare</th>\n",
       "      <th>Cabin</th>\n",
       "      <th>Embarked</th>\n",
       "    </tr>\n",
       "  </thead>\n",
       "  <tbody>\n",
       "    <tr>\n",
       "      <th>61</th>\n",
       "      <td>62</td>\n",
       "      <td>1</td>\n",
       "      <td>1</td>\n",
       "      <td>Icard, Miss. Amelie</td>\n",
       "      <td>female</td>\n",
       "      <td>38.0</td>\n",
       "      <td>0</td>\n",
       "      <td>0</td>\n",
       "      <td>113572</td>\n",
       "      <td>80.0</td>\n",
       "      <td>B28</td>\n",
       "      <td>NaN</td>\n",
       "    </tr>\n",
       "    <tr>\n",
       "      <th>829</th>\n",
       "      <td>830</td>\n",
       "      <td>1</td>\n",
       "      <td>1</td>\n",
       "      <td>Stone, Mrs. George Nelson (Martha Evelyn)</td>\n",
       "      <td>female</td>\n",
       "      <td>62.0</td>\n",
       "      <td>0</td>\n",
       "      <td>0</td>\n",
       "      <td>113572</td>\n",
       "      <td>80.0</td>\n",
       "      <td>B28</td>\n",
       "      <td>NaN</td>\n",
       "    </tr>\n",
       "  </tbody>\n",
       "</table>\n",
       "</div>"
      ],
      "text/plain": [
       "     PassengerId  Survived  Pclass                                       Name  \\\n",
       "61            62         1       1                        Icard, Miss. Amelie   \n",
       "829          830         1       1  Stone, Mrs. George Nelson (Martha Evelyn)   \n",
       "\n",
       "        Sex   Age  SibSp  Parch  Ticket  Fare Cabin Embarked  \n",
       "61   female  38.0      0      0  113572  80.0   B28      NaN  \n",
       "829  female  62.0      0      0  113572  80.0   B28      NaN  "
      ]
     },
     "execution_count": 7,
     "metadata": {},
     "output_type": "execute_result"
    }
   ],
   "source": [
    "df[df['Embarked'].isna()]"
   ]
  },
  {
   "cell_type": "markdown",
   "id": "2da753c6",
   "metadata": {
    "id": "YOuvWeqWTEIv",
    "papermill": {
     "duration": 0.012606,
     "end_time": "2024-12-23T09:55:49.056045",
     "exception": false,
     "start_time": "2024-12-23T09:55:49.043439",
     "status": "completed"
    },
    "tags": []
   },
   "source": [
    "I found [Icard, Miss. Amelie](https://www.encyclopedia-titanica.org/titanic-survivor/amelia-icard.html) - Embarked Southampton (S)\n",
    "\n",
    "Also [Stone, Mrs. George Nelson (Martha Evelyn)](https://www.encyclopedia-titanica.org/titanic-survivor/martha-evelyn-stone.html) is embarked Southampton (S)"
   ]
  },
  {
   "cell_type": "code",
   "execution_count": 8,
   "id": "49963d37",
   "metadata": {
    "execution": {
     "iopub.execute_input": "2024-12-23T09:55:49.082957Z",
     "iopub.status.busy": "2024-12-23T09:55:49.082586Z",
     "iopub.status.idle": "2024-12-23T09:55:49.090784Z",
     "shell.execute_reply": "2024-12-23T09:55:49.089972Z"
    },
    "executionInfo": {
     "elapsed": 216,
     "status": "ok",
     "timestamp": 1734524068272,
     "user": {
      "displayName": "Максим Равичев",
      "userId": "13749303498246737990"
     },
     "user_tz": -120
    },
    "id": "W89R4eagTvrG",
    "outputId": "0e12e4cd-a9fd-4583-fa3d-5d4d792840b8",
    "papermill": {
     "duration": 0.023331,
     "end_time": "2024-12-23T09:55:49.092170",
     "exception": false,
     "start_time": "2024-12-23T09:55:49.068839",
     "status": "completed"
    },
    "tags": []
   },
   "outputs": [
    {
     "data": {
      "text/plain": [
       "Embarked\n",
       "S    646\n",
       "C    168\n",
       "Q     77\n",
       "Name: count, dtype: int64"
      ]
     },
     "execution_count": 8,
     "metadata": {},
     "output_type": "execute_result"
    }
   ],
   "source": [
    "df['Embarked'].fillna('S', inplace=True)\n",
    "df['Embarked'].value_counts(dropna=False)"
   ]
  },
  {
   "cell_type": "markdown",
   "id": "3b4d0ad4",
   "metadata": {
    "id": "hH193108hMO_",
    "papermill": {
     "duration": 0.01272,
     "end_time": "2024-12-23T09:55:49.118084",
     "exception": false,
     "start_time": "2024-12-23T09:55:49.105364",
     "status": "completed"
    },
    "tags": []
   },
   "source": [
    "# Model"
   ]
  },
  {
   "cell_type": "markdown",
   "id": "65a67e11",
   "metadata": {
    "id": "INwJ49vVQ6J9",
    "papermill": {
     "duration": 0.012743,
     "end_time": "2024-12-23T09:55:49.144160",
     "exception": false,
     "start_time": "2024-12-23T09:55:49.131417",
     "status": "completed"
    },
    "tags": []
   },
   "source": [
    "## Main settings"
   ]
  },
  {
   "cell_type": "markdown",
   "id": "c8100cf7",
   "metadata": {
    "id": "9k6jP355QQZO",
    "papermill": {
     "duration": 0.012915,
     "end_time": "2024-12-23T09:55:49.170413",
     "exception": false,
     "start_time": "2024-12-23T09:55:49.157498",
     "status": "completed"
    },
    "tags": []
   },
   "source": [
    "In this section, we will prepare the data for the model."
   ]
  },
  {
   "cell_type": "code",
   "execution_count": 9,
   "id": "fb9ffe65",
   "metadata": {
    "execution": {
     "iopub.execute_input": "2024-12-23T09:55:49.197574Z",
     "iopub.status.busy": "2024-12-23T09:55:49.197220Z",
     "iopub.status.idle": "2024-12-23T09:55:49.495307Z",
     "shell.execute_reply": "2024-12-23T09:55:49.494220Z"
    },
    "executionInfo": {
     "elapsed": 820,
     "status": "ok",
     "timestamp": 1734524069089,
     "user": {
      "displayName": "Максим Равичев",
      "userId": "13749303498246737990"
     },
     "user_tz": -120
    },
    "id": "-1GAwDmMOOn9",
    "papermill": {
     "duration": 0.313759,
     "end_time": "2024-12-23T09:55:49.497162",
     "exception": false,
     "start_time": "2024-12-23T09:55:49.183403",
     "status": "completed"
    },
    "tags": []
   },
   "outputs": [],
   "source": [
    "transformer = Pipeline([('transform_custom', TitanicTransformer())])\n",
    "df = transformer.fit_transform(df)\n",
    "valid_df = transformer.fit_transform(valid_df)"
   ]
  },
  {
   "cell_type": "markdown",
   "id": "8eecc67e",
   "metadata": {
    "id": "CKU9g-PaQgjC",
    "papermill": {
     "duration": 0.012739,
     "end_time": "2024-12-23T09:55:49.523238",
     "exception": false,
     "start_time": "2024-12-23T09:55:49.510499",
     "status": "completed"
    },
    "tags": []
   },
   "source": [
    "Using the trial-and-error method, we select the best features for the model. I leave some addition features that i dont use in comments."
   ]
  },
  {
   "cell_type": "code",
   "execution_count": 10,
   "id": "0d473a56",
   "metadata": {
    "execution": {
     "iopub.execute_input": "2024-12-23T09:55:49.550536Z",
     "iopub.status.busy": "2024-12-23T09:55:49.550169Z",
     "iopub.status.idle": "2024-12-23T09:55:49.559055Z",
     "shell.execute_reply": "2024-12-23T09:55:49.558274Z"
    },
    "executionInfo": {
     "elapsed": 5,
     "status": "ok",
     "timestamp": 1734524069090,
     "user": {
      "displayName": "Максим Равичев",
      "userId": "13749303498246737990"
     },
     "user_tz": -120
    },
    "id": "lzwkJp9Mg8u2",
    "papermill": {
     "duration": 0.024377,
     "end_time": "2024-12-23T09:55:49.560548",
     "exception": false,
     "start_time": "2024-12-23T09:55:49.536171",
     "status": "completed"
    },
    "tags": []
   },
   "outputs": [],
   "source": [
    "X=df[['Deck','FamilySize','AgeBin_Code','FareBin_Code','Cabin_not_Nan','Sex','Pclass','Embarked','Title_Code']] #'SibSp','Parch','Age','Fare','is_worker',,'is_child','is_old''IsAlone',\n",
    "y=df['Survived']\n",
    "\n",
    "X_train, X_test, y_train, y_test = train_test_split(X, y,\n",
    "                                                test_size=0.2,\n",
    "                                                random_state=42,\n",
    "                                                stratify=y)\n",
    "\n",
    "numeric_features = ['FamilySize', 'Sex']#'SibSp', 'Parch','Fare','Age','is_worker','IsAlone',\n",
    "cat_features = ['FareBin_Code','AgeBin_Code','Cabin_not_Nan','Deck','Pclass','Embarked','Title_Code']#,,'is_child','is_old'"
   ]
  },
  {
   "cell_type": "code",
   "execution_count": 11,
   "id": "713ef898",
   "metadata": {
    "execution": {
     "iopub.execute_input": "2024-12-23T09:55:49.588447Z",
     "iopub.status.busy": "2024-12-23T09:55:49.588112Z",
     "iopub.status.idle": "2024-12-23T09:55:49.593012Z",
     "shell.execute_reply": "2024-12-23T09:55:49.591951Z"
    },
    "executionInfo": {
     "elapsed": 4,
     "status": "ok",
     "timestamp": 1734524069090,
     "user": {
      "displayName": "Максим Равичев",
      "userId": "13749303498246737990"
     },
     "user_tz": -120
    },
    "id": "G7towRUh4XO6",
    "papermill": {
     "duration": 0.02078,
     "end_time": "2024-12-23T09:55:49.594691",
     "exception": false,
     "start_time": "2024-12-23T09:55:49.573911",
     "status": "completed"
    },
    "tags": []
   },
   "outputs": [],
   "source": [
    "numeric_transformer = Pipeline(steps=[\n",
    "    ('imputer', SimpleImputer(strategy='mean')),\n",
    "    ('scaler', StandardScaler())\n",
    "])\n",
    "\n",
    "preprocessor = ColumnTransformer(\n",
    "    transformers=[\n",
    "        ('num', numeric_transformer, numeric_features),\n",
    "        ('cat', OneHotEncoder(), cat_features),\n",
    "    ]\n",
    ")"
   ]
  },
  {
   "cell_type": "markdown",
   "id": "5b4cbef6",
   "metadata": {
    "id": "kk6Z8OYZp4aQ",
    "papermill": {
     "duration": 0.012919,
     "end_time": "2024-12-23T09:55:49.621100",
     "exception": false,
     "start_time": "2024-12-23T09:55:49.608181",
     "status": "completed"
    },
    "tags": []
   },
   "source": [
    "## Custom method for fitting models"
   ]
  },
  {
   "cell_type": "code",
   "execution_count": 12,
   "id": "5c01d1f4",
   "metadata": {
    "execution": {
     "iopub.execute_input": "2024-12-23T09:55:49.649143Z",
     "iopub.status.busy": "2024-12-23T09:55:49.648804Z",
     "iopub.status.idle": "2024-12-23T09:55:49.653946Z",
     "shell.execute_reply": "2024-12-23T09:55:49.653100Z"
    },
    "executionInfo": {
     "elapsed": 4,
     "status": "ok",
     "timestamp": 1734524069090,
     "user": {
      "displayName": "Максим Равичев",
      "userId": "13749303498246737990"
     },
     "user_tz": -120
    },
    "id": "U770LX3u4d94",
    "papermill": {
     "duration": 0.02075,
     "end_time": "2024-12-23T09:55:49.655283",
     "exception": false,
     "start_time": "2024-12-23T09:55:49.634533",
     "status": "completed"
    },
    "tags": []
   },
   "outputs": [],
   "source": [
    "def custom_model_fit(models):\n",
    "\n",
    "\n",
    "    name, model_info = next(iter(models.items()))\n",
    "    pipeline = Pipeline([\n",
    "        ('preprocessor', preprocessor),\n",
    "        ('classifier', model_info['model'])\n",
    "    ])\n",
    "\n",
    "    grid_search = GridSearchCV(pipeline,\n",
    "                                model_info['params'],\n",
    "                                cv=10,\n",
    "                                scoring='accuracy',\n",
    "                                error_score=\"raise\",\n",
    "                                return_train_score=True)\n",
    "    grid_search.fit(X_train, y_train)\n",
    "\n",
    "    print(\"Best params:\")\n",
    "    print(grid_search.best_params_)\n",
    "\n",
    "    best_estimator = grid_search.best_estimator_\n",
    "\n",
    "    return best_estimator"
   ]
  },
  {
   "cell_type": "markdown",
   "id": "4acb77e3",
   "metadata": {
    "id": "j5-CaDRU32qh",
    "papermill": {
     "duration": 0.013288,
     "end_time": "2024-12-23T09:55:49.684149",
     "exception": false,
     "start_time": "2024-12-23T09:55:49.670861",
     "status": "completed"
    },
    "tags": []
   },
   "source": [
    "## SGD"
   ]
  },
  {
   "cell_type": "code",
   "execution_count": 13,
   "id": "5d3de957",
   "metadata": {
    "execution": {
     "iopub.execute_input": "2024-12-23T09:55:49.712192Z",
     "iopub.status.busy": "2024-12-23T09:55:49.711832Z",
     "iopub.status.idle": "2024-12-23T09:55:49.716388Z",
     "shell.execute_reply": "2024-12-23T09:55:49.715528Z"
    },
    "executionInfo": {
     "elapsed": 4,
     "status": "ok",
     "timestamp": 1734524069090,
     "user": {
      "displayName": "Максим Равичев",
      "userId": "13749303498246737990"
     },
     "user_tz": -120
    },
    "id": "bMGlYGai4Z0e",
    "papermill": {
     "duration": 0.020488,
     "end_time": "2024-12-23T09:55:49.717981",
     "exception": false,
     "start_time": "2024-12-23T09:55:49.697493",
     "status": "completed"
    },
    "tags": []
   },
   "outputs": [],
   "source": [
    "model_SGD_options = {\n",
    "    'SGDClassifier': {\n",
    "        'model': SGDClassifier(loss = 'log_loss', random_state=42,  max_iter = 2500, n_jobs = -1),\n",
    "        'params': {'classifier__alpha': [0.005], 'classifier__class_weight': [None]}}\n",
    "}\n",
    "\n",
    "results = {}"
   ]
  },
  {
   "cell_type": "code",
   "execution_count": 14,
   "id": "5be55883",
   "metadata": {
    "execution": {
     "iopub.execute_input": "2024-12-23T09:55:49.746188Z",
     "iopub.status.busy": "2024-12-23T09:55:49.745863Z",
     "iopub.status.idle": "2024-12-23T09:55:50.044456Z",
     "shell.execute_reply": "2024-12-23T09:55:50.043348Z"
    },
    "executionInfo": {
     "elapsed": 960,
     "status": "ok",
     "timestamp": 1734524070046,
     "user": {
      "displayName": "Максим Равичев",
      "userId": "13749303498246737990"
     },
     "user_tz": -120
    },
    "id": "-ACzMLcAnpaL",
    "outputId": "567f9d3c-1e81-4060-e9c4-1165030aa048",
    "papermill": {
     "duration": 0.314874,
     "end_time": "2024-12-23T09:55:50.046283",
     "exception": false,
     "start_time": "2024-12-23T09:55:49.731409",
     "status": "completed"
    },
    "tags": []
   },
   "outputs": [
    {
     "name": "stdout",
     "output_type": "stream",
     "text": [
      "Best params:\n",
      "{'classifier__alpha': 0.005, 'classifier__class_weight': None}\n"
     ]
    }
   ],
   "source": [
    "SGDmodel = custom_model_fit(model_SGD_options)"
   ]
  },
  {
   "cell_type": "markdown",
   "id": "20bd7ab3",
   "metadata": {
    "id": "t41V0wf41gCi",
    "papermill": {
     "duration": 0.013233,
     "end_time": "2024-12-23T09:55:50.072890",
     "exception": false,
     "start_time": "2024-12-23T09:55:50.059657",
     "status": "completed"
    },
    "tags": []
   },
   "source": [
    "### Score"
   ]
  },
  {
   "cell_type": "code",
   "execution_count": 15,
   "id": "45288c7b",
   "metadata": {
    "execution": {
     "iopub.execute_input": "2024-12-23T09:55:50.100958Z",
     "iopub.status.busy": "2024-12-23T09:55:50.100581Z",
     "iopub.status.idle": "2024-12-23T09:55:50.114145Z",
     "shell.execute_reply": "2024-12-23T09:55:50.113113Z"
    },
    "executionInfo": {
     "elapsed": 4,
     "status": "ok",
     "timestamp": 1734524070046,
     "user": {
      "displayName": "Максим Равичев",
      "userId": "13749303498246737990"
     },
     "user_tz": -120
    },
    "id": "Wg0W08Zs1CeO",
    "outputId": "4999297b-bed8-47d9-96b1-6582d7016f82",
    "papermill": {
     "duration": 0.029405,
     "end_time": "2024-12-23T09:55:50.115726",
     "exception": false,
     "start_time": "2024-12-23T09:55:50.086321",
     "status": "completed"
    },
    "tags": []
   },
   "outputs": [
    {
     "data": {
      "text/plain": [
       "0.8435754189944135"
      ]
     },
     "execution_count": 15,
     "metadata": {},
     "output_type": "execute_result"
    }
   ],
   "source": [
    "SGDmodel.score(X_test, y_test)"
   ]
  },
  {
   "cell_type": "markdown",
   "id": "a0bed073",
   "metadata": {
    "id": "nvRaN0RUMaxO",
    "papermill": {
     "duration": 0.013126,
     "end_time": "2024-12-23T09:55:50.142657",
     "exception": false,
     "start_time": "2024-12-23T09:55:50.129531",
     "status": "completed"
    },
    "tags": []
   },
   "source": [
    "## LR"
   ]
  },
  {
   "cell_type": "code",
   "execution_count": 16,
   "id": "03befefb",
   "metadata": {
    "execution": {
     "iopub.execute_input": "2024-12-23T09:55:50.171142Z",
     "iopub.status.busy": "2024-12-23T09:55:50.170769Z",
     "iopub.status.idle": "2024-12-23T09:55:50.175421Z",
     "shell.execute_reply": "2024-12-23T09:55:50.174433Z"
    },
    "executionInfo": {
     "elapsed": 7,
     "status": "ok",
     "timestamp": 1734524082185,
     "user": {
      "displayName": "Максим Равичев",
      "userId": "13749303498246737990"
     },
     "user_tz": -120
    },
    "id": "AGBHJUxtMaxR",
    "papermill": {
     "duration": 0.020613,
     "end_time": "2024-12-23T09:55:50.177060",
     "exception": false,
     "start_time": "2024-12-23T09:55:50.156447",
     "status": "completed"
    },
    "tags": []
   },
   "outputs": [],
   "source": [
    "model_LR_options  = {\n",
    "    'LogisticRegression': {\n",
    "        'model': LogisticRegression(random_state=42, max_iter = 1000),\n",
    "        'params': {'classifier__C': [0.2],\n",
    "                   'classifier__class_weight': [None],\n",
    "                   'classifier__solver': ['saga']}}\n",
    "}\n",
    "\n",
    "results = {}"
   ]
  },
  {
   "cell_type": "code",
   "execution_count": 17,
   "id": "ed3dba22",
   "metadata": {
    "execution": {
     "iopub.execute_input": "2024-12-23T09:55:50.206027Z",
     "iopub.status.busy": "2024-12-23T09:55:50.205627Z",
     "iopub.status.idle": "2024-12-23T09:55:50.528831Z",
     "shell.execute_reply": "2024-12-23T09:55:50.527642Z"
    },
    "executionInfo": {
     "elapsed": 1410,
     "status": "ok",
     "timestamp": 1734524083589,
     "user": {
      "displayName": "Максим Равичев",
      "userId": "13749303498246737990"
     },
     "user_tz": -120
    },
    "id": "KxPAV76AMaxT",
    "outputId": "21dc9f5e-0bdc-4177-e60f-619bd30bc102",
    "papermill": {
     "duration": 0.339537,
     "end_time": "2024-12-23T09:55:50.530627",
     "exception": false,
     "start_time": "2024-12-23T09:55:50.191090",
     "status": "completed"
    },
    "tags": []
   },
   "outputs": [
    {
     "name": "stdout",
     "output_type": "stream",
     "text": [
      "Best params:\n",
      "{'classifier__C': 0.2, 'classifier__class_weight': None, 'classifier__solver': 'saga'}\n"
     ]
    }
   ],
   "source": [
    "LRmodel = custom_model_fit(model_LR_options)"
   ]
  },
  {
   "cell_type": "markdown",
   "id": "346c31cb",
   "metadata": {
    "id": "0hUgHPy_1mjH",
    "papermill": {
     "duration": 0.013439,
     "end_time": "2024-12-23T09:55:50.558346",
     "exception": false,
     "start_time": "2024-12-23T09:55:50.544907",
     "status": "completed"
    },
    "tags": []
   },
   "source": [
    "### Score"
   ]
  },
  {
   "cell_type": "code",
   "execution_count": 18,
   "id": "8b0dbbad",
   "metadata": {
    "execution": {
     "iopub.execute_input": "2024-12-23T09:55:50.587212Z",
     "iopub.status.busy": "2024-12-23T09:55:50.586825Z",
     "iopub.status.idle": "2024-12-23T09:55:50.600219Z",
     "shell.execute_reply": "2024-12-23T09:55:50.599386Z"
    },
    "executionInfo": {
     "elapsed": 4,
     "status": "ok",
     "timestamp": 1734524083589,
     "user": {
      "displayName": "Максим Равичев",
      "userId": "13749303498246737990"
     },
     "user_tz": -120
    },
    "id": "jGxzUp59MaxT",
    "outputId": "7caa2fe1-a60a-4fe5-be33-b4bcf29c17cb",
    "papermill": {
     "duration": 0.029573,
     "end_time": "2024-12-23T09:55:50.601796",
     "exception": false,
     "start_time": "2024-12-23T09:55:50.572223",
     "status": "completed"
    },
    "tags": []
   },
   "outputs": [
    {
     "data": {
      "text/plain": [
       "0.8379888268156425"
      ]
     },
     "execution_count": 18,
     "metadata": {},
     "output_type": "execute_result"
    }
   ],
   "source": [
    "LRmodel.score(X_test, y_test)"
   ]
  },
  {
   "cell_type": "markdown",
   "id": "8e60cc42",
   "metadata": {
    "id": "WanbFWU3Cou-",
    "papermill": {
     "duration": 0.01355,
     "end_time": "2024-12-23T09:55:50.629471",
     "exception": false,
     "start_time": "2024-12-23T09:55:50.615921",
     "status": "completed"
    },
    "tags": []
   },
   "source": [
    "## KNN"
   ]
  },
  {
   "cell_type": "code",
   "execution_count": 19,
   "id": "efdfe53e",
   "metadata": {
    "execution": {
     "iopub.execute_input": "2024-12-23T09:55:50.658325Z",
     "iopub.status.busy": "2024-12-23T09:55:50.657990Z",
     "iopub.status.idle": "2024-12-23T09:55:50.662457Z",
     "shell.execute_reply": "2024-12-23T09:55:50.661589Z"
    },
    "executionInfo": {
     "elapsed": 8,
     "status": "ok",
     "timestamp": 1734524092823,
     "user": {
      "displayName": "Максим Равичев",
      "userId": "13749303498246737990"
     },
     "user_tz": -120
    },
    "id": "JP5JxVltCovP",
    "papermill": {
     "duration": 0.020898,
     "end_time": "2024-12-23T09:55:50.664097",
     "exception": false,
     "start_time": "2024-12-23T09:55:50.643199",
     "status": "completed"
    },
    "tags": []
   },
   "outputs": [],
   "source": [
    "model_KNN_options = {\n",
    "    'KNeighborsClassifier': {\n",
    "        'model': KNeighborsClassifier(),\n",
    "        'params': {\n",
    "            'classifier__n_neighbors': [3, 5, 7],\n",
    "            'classifier__weights': ['uniform', 'distance'],\n",
    "            'classifier__metric': ['minkowski', 'euclidean', 'manhattan'],\n",
    "            'classifier__p': [1, 2],\n",
    "        }\n",
    "    }\n",
    "}\n",
    "\n",
    "results = {}"
   ]
  },
  {
   "cell_type": "code",
   "execution_count": 20,
   "id": "7a36b397",
   "metadata": {
    "execution": {
     "iopub.execute_input": "2024-12-23T09:55:50.693185Z",
     "iopub.status.busy": "2024-12-23T09:55:50.692825Z",
     "iopub.status.idle": "2024-12-23T09:56:19.051479Z",
     "shell.execute_reply": "2024-12-23T09:56:19.050264Z"
    },
    "executionInfo": {
     "elapsed": 35683,
     "status": "ok",
     "timestamp": 1734524128499,
     "user": {
      "displayName": "Максим Равичев",
      "userId": "13749303498246737990"
     },
     "user_tz": -120
    },
    "id": "N-h1AHTxvJaK",
    "outputId": "e342ee6a-4c78-42c0-c39e-b185ef06fa1b",
    "papermill": {
     "duration": 28.374942,
     "end_time": "2024-12-23T09:56:19.053181",
     "exception": false,
     "start_time": "2024-12-23T09:55:50.678239",
     "status": "completed"
    },
    "tags": []
   },
   "outputs": [
    {
     "name": "stdout",
     "output_type": "stream",
     "text": [
      "Best params:\n",
      "{'classifier__metric': 'minkowski', 'classifier__n_neighbors': 7, 'classifier__p': 1, 'classifier__weights': 'uniform'}\n"
     ]
    }
   ],
   "source": [
    "KNNmodel = custom_model_fit(model_KNN_options)"
   ]
  },
  {
   "cell_type": "markdown",
   "id": "3777a3fb",
   "metadata": {
    "id": "wMyOW1CmCovS",
    "papermill": {
     "duration": 0.013532,
     "end_time": "2024-12-23T09:56:19.080709",
     "exception": false,
     "start_time": "2024-12-23T09:56:19.067177",
     "status": "completed"
    },
    "tags": []
   },
   "source": [
    "### Score"
   ]
  },
  {
   "cell_type": "code",
   "execution_count": 21,
   "id": "15f0236b",
   "metadata": {
    "execution": {
     "iopub.execute_input": "2024-12-23T09:56:19.109622Z",
     "iopub.status.busy": "2024-12-23T09:56:19.109229Z",
     "iopub.status.idle": "2024-12-23T09:56:19.141915Z",
     "shell.execute_reply": "2024-12-23T09:56:19.141072Z"
    },
    "executionInfo": {
     "elapsed": 4,
     "status": "ok",
     "timestamp": 1734524128499,
     "user": {
      "displayName": "Максим Равичев",
      "userId": "13749303498246737990"
     },
     "user_tz": -120
    },
    "id": "Hj-l_K3TCovS",
    "outputId": "e54d0692-83d8-4ed7-c846-cebecd876085",
    "papermill": {
     "duration": 0.048967,
     "end_time": "2024-12-23T09:56:19.143524",
     "exception": false,
     "start_time": "2024-12-23T09:56:19.094557",
     "status": "completed"
    },
    "tags": []
   },
   "outputs": [
    {
     "data": {
      "text/plain": [
       "0.8324022346368715"
      ]
     },
     "execution_count": 21,
     "metadata": {},
     "output_type": "execute_result"
    }
   ],
   "source": [
    "KNNmodel.score(X_test, y_test)"
   ]
  },
  {
   "cell_type": "markdown",
   "id": "7d9b6cbe",
   "metadata": {
    "id": "kgEIgrwpQ512",
    "papermill": {
     "duration": 0.013847,
     "end_time": "2024-12-23T09:56:19.171565",
     "exception": false,
     "start_time": "2024-12-23T09:56:19.157718",
     "status": "completed"
    },
    "tags": []
   },
   "source": [
    "## RandomForest"
   ]
  },
  {
   "cell_type": "code",
   "execution_count": 22,
   "id": "86735dd5",
   "metadata": {
    "execution": {
     "iopub.execute_input": "2024-12-23T09:56:19.200673Z",
     "iopub.status.busy": "2024-12-23T09:56:19.200303Z",
     "iopub.status.idle": "2024-12-23T09:56:19.205623Z",
     "shell.execute_reply": "2024-12-23T09:56:19.204529Z"
    },
    "executionInfo": {
     "elapsed": 3,
     "status": "ok",
     "timestamp": 1734524138099,
     "user": {
      "displayName": "Максим Равичев",
      "userId": "13749303498246737990"
     },
     "user_tz": -120
    },
    "id": "BnDGDAlyQ512",
    "papermill": {
     "duration": 0.022063,
     "end_time": "2024-12-23T09:56:19.207483",
     "exception": false,
     "start_time": "2024-12-23T09:56:19.185420",
     "status": "completed"
    },
    "tags": []
   },
   "outputs": [],
   "source": [
    "\n",
    "model_RFC_options = {\n",
    "\n",
    "    'RandomForestClassifier': {\n",
    "        'model': RandomForestClassifier(random_state=42, n_jobs=-1),\n",
    "        'params': {\n",
    "            'classifier__n_estimators': [500],\n",
    "            'classifier__max_depth': [None, 10,  30],\n",
    "            'classifier__bootstrap': [True],\n",
    "            'classifier__class_weight': ['balanced', {0: 3, 1: 2}],\n",
    "        }\n",
    "\n",
    "\n",
    "}\n",
    "\n",
    "}\n",
    "results = {}"
   ]
  },
  {
   "cell_type": "code",
   "execution_count": 23,
   "id": "e8e2312e",
   "metadata": {
    "execution": {
     "iopub.execute_input": "2024-12-23T09:56:19.237326Z",
     "iopub.status.busy": "2024-12-23T09:56:19.236962Z",
     "iopub.status.idle": "2024-12-23T09:58:10.131455Z",
     "shell.execute_reply": "2024-12-23T09:58:10.130293Z"
    },
    "executionInfo": {
     "elapsed": 133495,
     "status": "ok",
     "timestamp": 1734524271592,
     "user": {
      "displayName": "Максим Равичев",
      "userId": "13749303498246737990"
     },
     "user_tz": -120
    },
    "id": "PReb-hkiQ515",
    "outputId": "fba5231f-d323-4a44-83f9-a125907ffaf3",
    "papermill": {
     "duration": 110.925119,
     "end_time": "2024-12-23T09:58:10.147138",
     "exception": false,
     "start_time": "2024-12-23T09:56:19.222019",
     "status": "completed"
    },
    "tags": []
   },
   "outputs": [
    {
     "name": "stdout",
     "output_type": "stream",
     "text": [
      "Best params:\n",
      "{'classifier__bootstrap': True, 'classifier__class_weight': 'balanced', 'classifier__max_depth': 10, 'classifier__n_estimators': 500}\n"
     ]
    }
   ],
   "source": [
    "RFCmodel = custom_model_fit(model_RFC_options)"
   ]
  },
  {
   "cell_type": "markdown",
   "id": "3339dee3",
   "metadata": {
    "id": "PI7nrKSW1oF-",
    "papermill": {
     "duration": 0.013916,
     "end_time": "2024-12-23T09:58:10.175444",
     "exception": false,
     "start_time": "2024-12-23T09:58:10.161528",
     "status": "completed"
    },
    "tags": []
   },
   "source": [
    "### Score"
   ]
  },
  {
   "cell_type": "code",
   "execution_count": 24,
   "id": "8a9b5bac",
   "metadata": {
    "execution": {
     "iopub.execute_input": "2024-12-23T09:58:10.205133Z",
     "iopub.status.busy": "2024-12-23T09:58:10.204736Z",
     "iopub.status.idle": "2024-12-23T09:58:10.373272Z",
     "shell.execute_reply": "2024-12-23T09:58:10.372151Z"
    },
    "executionInfo": {
     "elapsed": 5,
     "status": "ok",
     "timestamp": 1734524271593,
     "user": {
      "displayName": "Максим Равичев",
      "userId": "13749303498246737990"
     },
     "user_tz": -120
    },
    "id": "k2QvO0e-Q516",
    "outputId": "8bd3b7ad-13ab-459b-8eda-d9e84016e629",
    "papermill": {
     "duration": 0.185255,
     "end_time": "2024-12-23T09:58:10.374836",
     "exception": false,
     "start_time": "2024-12-23T09:58:10.189581",
     "status": "completed"
    },
    "tags": []
   },
   "outputs": [
    {
     "data": {
      "text/plain": [
       "0.8324022346368715"
      ]
     },
     "execution_count": 24,
     "metadata": {},
     "output_type": "execute_result"
    }
   ],
   "source": [
    "RFCmodel.score(X_test, y_test)"
   ]
  },
  {
   "cell_type": "markdown",
   "id": "aaaa57c3",
   "metadata": {
    "id": "xdQvg7SiPkf-",
    "papermill": {
     "duration": 0.014616,
     "end_time": "2024-12-23T09:58:10.404573",
     "exception": false,
     "start_time": "2024-12-23T09:58:10.389957",
     "status": "completed"
    },
    "tags": []
   },
   "source": [
    "## Feature importance"
   ]
  },
  {
   "cell_type": "code",
   "execution_count": 25,
   "id": "4809003a",
   "metadata": {
    "execution": {
     "iopub.execute_input": "2024-12-23T09:58:10.434923Z",
     "iopub.status.busy": "2024-12-23T09:58:10.434519Z",
     "iopub.status.idle": "2024-12-23T09:59:04.468077Z",
     "shell.execute_reply": "2024-12-23T09:59:04.466976Z"
    },
    "executionInfo": {
     "elapsed": 50121,
     "status": "ok",
     "timestamp": 1734528313350,
     "user": {
      "displayName": "Максим Равичев",
      "userId": "13749303498246737990"
     },
     "user_tz": -120
    },
    "id": "GYtzJfHtQ516",
    "papermill": {
     "duration": 54.050732,
     "end_time": "2024-12-23T09:59:04.469931",
     "exception": false,
     "start_time": "2024-12-23T09:58:10.419199",
     "status": "completed"
    },
    "tags": []
   },
   "outputs": [],
   "source": [
    "from sklearn.inspection import permutation_importance\n",
    "models_all=[SGDmodel,LRmodel,KNNmodel,RFCmodel]\n",
    "models_name = ['SGDmodel','LRmodel','KNNmodel','RFCmodel']\n",
    "result_importance=[]\n",
    "for model_name in models_all:\n",
    "  r = permutation_importance(model_name, X_test, y_test,\n",
    "                           n_repeats=30,\n",
    "                           random_state=0)\n",
    "  result_importance.append(r.importances_mean)\n",
    "PieX={}\n",
    "for idx, model_importance in enumerate(result_importance):\n",
    "    sorted_indices = model_importance.argsort()[::-1]\n",
    "    PieX[models_name[idx]] = {\n",
    "        X.columns[i]: model_importance[i] for i in sorted_indices\n",
    "    }\n",
    "\n",
    "PieXdf = pd.DataFrame(PieX)"
   ]
  },
  {
   "cell_type": "code",
   "execution_count": 26,
   "id": "6445a943",
   "metadata": {
    "execution": {
     "iopub.execute_input": "2024-12-23T09:59:04.500858Z",
     "iopub.status.busy": "2024-12-23T09:59:04.500454Z",
     "iopub.status.idle": "2024-12-23T09:59:05.322978Z",
     "shell.execute_reply": "2024-12-23T09:59:05.321995Z"
    },
    "executionInfo": {
     "elapsed": 1545,
     "status": "ok",
     "timestamp": 1734528339372,
     "user": {
      "displayName": "Максим Равичев",
      "userId": "13749303498246737990"
     },
     "user_tz": -120
    },
    "id": "irc7IOTTQ517",
    "outputId": "e2c8d909-0e31-4627-ba0c-d926647bda6a",
    "papermill": {
     "duration": 0.842078,
     "end_time": "2024-12-23T09:59:05.327102",
     "exception": false,
     "start_time": "2024-12-23T09:59:04.485024",
     "status": "completed"
    },
    "tags": []
   },
   "outputs": [
    {
     "data": {
      "image/png": "[encoded data removed]",
      "text/plain": [
       "<Figure size 2400x600 with 4 Axes>"
      ]
     },
     "metadata": {},
     "output_type": "display_data"
    }
   ],
   "source": [
    "fig, axes = plt.subplots(1, len(PieX), figsize=(6 * len(PieX), 6))\n",
    "\n",
    "if len(PieX) == 1:\n",
    "    axes = [axes]\n",
    "\n",
    "for idx, (model_name, feature_importances) in enumerate(PieX.items()):\n",
    "    abs_importances = np.abs(PieXdf[model_name])\n",
    "    axes[idx].pie(abs_importances,\n",
    "                  labels=PieXdf.index,\n",
    "                  autopct='%1.1f%%',\n",
    "                  startangle=90)\n",
    "    axes[idx].set_title(model_name)\n",
    "\n",
    "plt.suptitle(\"Feature Importances for All Models\", fontsize=16)\n",
    "plt.tight_layout()\n",
    "plt.show()"
   ]
  },
  {
   "cell_type": "markdown",
   "id": "960215b1",
   "metadata": {
    "id": "vHs0cnAjTI3I",
    "papermill": {
     "duration": 0.018279,
     "end_time": "2024-12-23T09:59:05.364847",
     "exception": false,
     "start_time": "2024-12-23T09:59:05.346568",
     "status": "completed"
    },
    "tags": []
   },
   "source": [
    " ## Voting"
   ]
  },
  {
   "cell_type": "code",
   "execution_count": 27,
   "id": "2c611582",
   "metadata": {
    "execution": {
     "iopub.execute_input": "2024-12-23T09:59:05.403059Z",
     "iopub.status.busy": "2024-12-23T09:59:05.402663Z",
     "iopub.status.idle": "2024-12-23T09:59:07.423952Z",
     "shell.execute_reply": "2024-12-23T09:59:07.422765Z"
    },
    "executionInfo": {
     "elapsed": 4815,
     "status": "ok",
     "timestamp": 1734524534386,
     "user": {
      "displayName": "Максим Равичев",
      "userId": "13749303498246737990"
     },
     "user_tz": -120
    },
    "id": "D3aBsUEgQMlx",
    "outputId": "64881245-aff9-4468-df85-37e210612425",
    "papermill": {
     "duration": 2.042377,
     "end_time": "2024-12-23T09:59:07.425603",
     "exception": false,
     "start_time": "2024-12-23T09:59:05.383226",
     "status": "completed"
    },
    "tags": []
   },
   "outputs": [
    {
     "name": "stdout",
     "output_type": "stream",
     "text": [
      "Train accuracy (0.8553370786516854, 2), test accuracy0.84\n"
     ]
    }
   ],
   "source": [
    "from sklearn.ensemble import VotingClassifier\n",
    "from sklearn.metrics import accuracy_score\n",
    "\n",
    "final_class = VotingClassifier(estimators=[('lr', LRmodel),('rfc', RFCmodel), ('sgd', SGDmodel),('knn', KNNmodel)], voting = 'hard')#\n",
    "final_class = final_class.fit(X_train, y_train)\n",
    "\n",
    "y_train_predict = final_class.predict(X_train)\n",
    "y_test_predict = final_class.predict(X_test)\n",
    "print(f'Train accuracy {(accuracy_score(y_train, y_train_predict),2)}, test accuracy{round(accuracy_score(y_test, y_test_predict),2)}')"
   ]
  },
  {
   "cell_type": "code",
   "execution_count": 28,
   "id": "61892032",
   "metadata": {
    "execution": {
     "iopub.execute_input": "2024-12-23T09:59:07.465042Z",
     "iopub.status.busy": "2024-12-23T09:59:07.464657Z",
     "iopub.status.idle": "2024-12-23T09:59:07.468132Z",
     "shell.execute_reply": "2024-12-23T09:59:07.467237Z"
    },
    "executionInfo": {
     "elapsed": 8,
     "status": "error",
     "timestamp": 1734524326494,
     "user": {
      "displayName": "Максим Равичев",
      "userId": "13749303498246737990"
     },
     "user_tz": -120
    },
    "id": "mqVF9JVJRWXQ",
    "outputId": "7da2b1ad-1310-4d9a-a760-1a503d14b716",
    "papermill": {
     "duration": 0.025411,
     "end_time": "2024-12-23T09:59:07.469670",
     "exception": false,
     "start_time": "2024-12-23T09:59:07.444259",
     "status": "completed"
    },
    "tags": []
   },
   "outputs": [],
   "source": [
    "#Stoping line for file naming\n",
    "#--------------"
   ]
  },
  {
   "cell_type": "code",
   "execution_count": 29,
   "id": "298a9f7b",
   "metadata": {
    "execution": {
     "iopub.execute_input": "2024-12-23T09:59:07.508594Z",
     "iopub.status.busy": "2024-12-23T09:59:07.508259Z",
     "iopub.status.idle": "2024-12-23T09:59:07.763488Z",
     "shell.execute_reply": "2024-12-23T09:59:07.762330Z"
    },
    "executionInfo": {
     "elapsed": 778,
     "status": "ok",
     "timestamp": 1734524537559,
     "user": {
      "displayName": "Максим Равичев",
      "userId": "13749303498246737990"
     },
     "user_tz": -120
    },
    "id": "tbMUVNFZQ517",
    "papermill": {
     "duration": 0.276639,
     "end_time": "2024-12-23T09:59:07.765504",
     "exception": false,
     "start_time": "2024-12-23T09:59:07.488865",
     "status": "completed"
    },
    "tags": []
   },
   "outputs": [],
   "source": [
    "valid_df['Survived'] = final_class.predict(valid_df)"
   ]
  },
  {
   "cell_type": "code",
   "execution_count": 30,
   "id": "38b88add",
   "metadata": {
    "execution": {
     "iopub.execute_input": "2024-12-23T09:59:07.805005Z",
     "iopub.status.busy": "2024-12-23T09:59:07.804616Z",
     "iopub.status.idle": "2024-12-23T09:59:07.809930Z",
     "shell.execute_reply": "2024-12-23T09:59:07.808816Z"
    },
    "executionInfo": {
     "elapsed": 222,
     "status": "ok",
     "timestamp": 1734524538484,
     "user": {
      "displayName": "Максим Равичев",
      "userId": "13749303498246737990"
     },
     "user_tz": -120
    },
    "id": "HvyhTa-FQ517",
    "papermill": {
     "duration": 0.027371,
     "end_time": "2024-12-23T09:59:07.811630",
     "exception": false,
     "start_time": "2024-12-23T09:59:07.784259",
     "status": "completed"
    },
    "tags": []
   },
   "outputs": [],
   "source": [
    "final_valid_df=valid_df[['PassengerId','Survived']]"
   ]
  },
  {
   "cell_type": "code",
   "execution_count": 31,
   "id": "72932837",
   "metadata": {
    "execution": {
     "iopub.execute_input": "2024-12-23T09:59:07.851178Z",
     "iopub.status.busy": "2024-12-23T09:59:07.850815Z",
     "iopub.status.idle": "2024-12-23T09:59:07.858037Z",
     "shell.execute_reply": "2024-12-23T09:59:07.857048Z"
    },
    "executionInfo": {
     "elapsed": 245,
     "status": "ok",
     "timestamp": 1734524539450,
     "user": {
      "displayName": "Максим Равичев",
      "userId": "13749303498246737990"
     },
     "user_tz": -120
    },
    "id": "YRpKcFinRC3H",
    "papermill": {
     "duration": 0.028703,
     "end_time": "2024-12-23T09:59:07.859837",
     "exception": false,
     "start_time": "2024-12-23T09:59:07.831134",
     "status": "completed"
    },
    "tags": []
   },
   "outputs": [],
   "source": [
    "final_valid_df.to_csv('Name.csv', index=False)"
   ]
  }
 ],
 "metadata": {
  "colab": {
   "authorship_tag": "ABX9TyNgTi48CJBSYQThXIeDPYkh",
   "collapsed_sections": [
    "LAJUYnLEskie",
    "BcfvOIc5sukj",
    "hH193108hMO_"
   ],
   "provenance": []
  },
  "kaggle": {
   "accelerator": "none",
   "dataSources": [
    {
     "databundleVersionId": 26502,
     "sourceId": 3136,
     "sourceType": "competition"
    }
   ],
   "dockerImageVersionId": 30822,
   "isGpuEnabled": false,
   "isInternetEnabled": true,
   "language": "python",
   "sourceType": "notebook"
  },
  "kernelspec": {
   "display_name": "Python 3",
   "language": "python",
   "name": "python3"
  },
  "language_info": {
   "codemirror_mode": {
    "name": "ipython",
    "version": 3
   },
   "file_extension": ".py",
   "mimetype": "text/x-python",
   "name": "python",
   "nbconvert_exporter": "python",
   "pygments_lexer": "ipython3",
   "version": "3.10.12"
  },
  "papermill": {
   "default_parameters": {},
   "duration": 204.807513,
   "end_time": "2024-12-23T09:59:08.598915",
   "environment_variables": {},
   "exception": null,
   "input_path": "__notebook__.ipynb",
   "output_path": "__notebook__.ipynb",
   "parameters": {},
   "start_time": "2024-12-23T09:55:43.791402",
   "version": "2.6.0"
  }
 },
 "nbformat": 4,
 "nbformat_minor": 5
}
